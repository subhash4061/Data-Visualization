{
 "cells": [
  {
   "cell_type": "markdown",
   "metadata": {},
   "source": [
    "# Assignment 1: Dino Fun World\n",
    "\n",
    "You, in your role as a burgeoning data explorer and visualizer, have been asked by the administrators of a small amusement park in your hometown to answer a couple questions about their park operations. In order to perform the requested analysis, they have provided you with a database containing information about one day of the park's operations.\n",
    "\n",
    "### Provided Database\n",
    "\n",
    "The database provided by the park administration is formatted to be readable by any SQL database library. The course staff recommends the sqlite3 library. The database contains three tables, named 'checkins', 'attractions', and 'sequences'. The information contained in each of these tables is listed below:\n",
    "\n",
    "`checkins`:\n",
    "    - Description: check-in data for all visitors for the day in the park. The data includes two types of check-ins, inferred and actual checkins.\n",
    "    - Fields: visitorID, timestamp, attraction, duration, type\n",
    "`attraction`:\n",
    "    - The attractions in the park by their corresponding AttractionID, Name, Region, Category, and type. Regions are from the VAST Challenge map such as Coaster Alley, Tundra Land, etc. Categories include Thrill rides, Kiddie Rides, etc. Type is broken into Outdoor Coaster, Other Ride, Carussel, etc.\n",
    "    - Fields: AttractionID, Name, Region, Category, type\n",
    "`sequences`:\n",
    "    - The check-in sequences of visitors. These sequences list the position of each visitor to the park every five minutes. If the visitor has not entered the part yet, the sequence has a value of 0 for that time interval. If the visitor is in the park, the sequence lists the attraction they have most recently checked in to until they check in to a new one or leave the park.\n",
    "    - Fields: visitorID, sequence\n",
    "    \n",
    "The database is named 'dinofunworld.db' and is located in the 'readonly' directory of the Jupyter Notebook environment. It can be accessed at 'readonly/dinofunworld.db'.\n",
    "\n",
    "### Questions to Answer\n",
    "\n",
    "The administrators would like you to answer four relatively simple questions about the park activities on the day in question. These questions all deal with park operations and can be answered using the data provided.\n",
    "\n",
    "Question 1: What is the most popular attraction to visit in the park?\n",
    "Question 2: What ride (note that not all attractions are rides) has the longest visit time?\n",
    "Question 3: Which Fast Food offering has the fewest visitors?\n",
    "Question 4: Compute the Skyline of number of visits and visit time for the park's ride and report the rides that appear in the Skyline.\n",
    "\n",
    "#### Administrative Notes\n",
    "\n",
    "This assignment will be graded by Coursera's grading system. In order for your answers to be correctly registered in the system, you must place the code for your answers in the cell indicated for each question. In addition, you should submit the assignment with the output of the code in the cell's display area. The display area should contain only your answer to the question with no extraneous information, or else the answer may not be picked up correctly. Each cell that is going to be graded has a set of comment lines at the beginning of the cell. These lines are extremely important and must not be modified or removed."
   ]
  },
  {
   "cell_type": "code",
   "execution_count": 1,
   "metadata": {},
   "outputs": [],
   "source": [
    "import sqlite3\n",
    "db_filename='dinofunworld.db'\n",
    "conn = sqlite3.connect(db_filename)\n",
    "c=conn.cursor()"
   ]
  },
  {
   "cell_type": "code",
   "execution_count": 10,
   "metadata": {
    "scrolled": false
   },
   "outputs": [
    {
     "name": "stdout",
     "output_type": "stream",
     "text": [
      "Atmosfear\n"
     ]
    }
   ],
   "source": [
    "# Graded Cell\n",
    "# PartID:  NDnou\n",
    "# Question 1: What is the most popular attraction to visit in the park?\n",
    "# Notes: Your output should be the name of the attraction.\n",
    "c.execute(\"SELECT Name FROM (SELECT checkin.attraction,attraction.Name FROM checkin LEFT JOIN attraction ON checkin.attraction=attraction.AttractionID) GROUP BY attraction ORDER BY count(attraction) DESC LIMIT 1\")\n",
    "attr_name=c.fetchall()\n",
    "print(attr_name[0][0])"
   ]
  },
  {
   "cell_type": "code",
   "execution_count": 4,
   "metadata": {},
   "outputs": [
    {
     "name": "stdout",
     "output_type": "stream",
     "text": [
      "TerrorSaur\n"
     ]
    }
   ],
   "source": [
    "# Graded Cell\n",
    "# PartID: FXGHp\n",
    "# Question 2: What ride (note that not all attractions are rides) has the longest average visit time?\n",
    "# Notes: Your output should be the name of the ride.\n",
    "c.execute(\"SELECT AttractionID, Name FROM attraction where LOWER(Category) LIKE '%ride%'\")\n",
    "first_list = c.fetchall()\n",
    "time_data = (\"\", 0)\n",
    "for (attid, name) in first_list:\n",
    "    c.execute(\"SELECT duration FROM checkin where attraction=\"+str(attid)+\"\")\n",
    "    second_list = c.fetchall()\n",
    "    tot_dur = 0\n",
    "    n = 1\n",
    "    for duration in second_list:\n",
    "        try:\n",
    "            dur = duration[0].split(':')\n",
    "            tot_dur +=((int(dur[0])*3600) +(int(dur[1])*60)+ int(dur[2]))\n",
    "            n += 1\n",
    "        except:\n",
    "            continue\n",
    "    avg_dur = tot_dur / n\n",
    "    if avg_dur > time_data[1]:\n",
    "        time_data = (name, avg_dur)\n",
    "print(time_data[0])"
   ]
  },
  {
   "cell_type": "code",
   "execution_count": 11,
   "metadata": {},
   "outputs": [
    {
     "name": "stdout",
     "output_type": "stream",
     "text": [
      "Theresaur Food Stop\n"
     ]
    }
   ],
   "source": [
    "# Graded Cell\n",
    "# PartID: KALua\n",
    "# Question 3: Which Fast Food offering in the park has the fewest visitors?\n",
    "# Notes: Your output should be the name of the fast food offering.\n",
    "c.execute(\"SELECT Name FROM (SELECT  checkin.attraction,attraction.Name,attraction.type FROM checkin LEFT JOIN attraction ON checkin.attraction=attraction.AttractionID) WHERE type LIKE '%Fast Food%'  GROUP BY attraction ORDER BY count(attraction) ASC LIMIT 1\")\n",
    "few=c.fetchall()\n",
    "print(few[0][0])"
   ]
  },
  {
   "cell_type": "code",
   "execution_count": 12,
   "metadata": {},
   "outputs": [
    {
     "name": "stdout",
     "output_type": "stream",
     "text": [
      "['Dykesadactyl Thrill', 'Wrightiraptor Mountain', 'Galactosaurus Rage', 'Keimosaurus Big Spin', 'Atmosfear']\n"
     ]
    }
   ],
   "source": [
    "# Graded Cell\n",
    "# PartID: B0LUP\n",
    "# Question 4: Compute the Skyline of number of visits and visit time for the park's ride and \n",
    "#  report the rides that appear in the Skyline. \n",
    "# Notes: Remember that in this case, higher visits is better and lower visit times are better. \n",
    "#  Your output should be formatted as an array listing the names of the rides in the Skyline.\n",
    "datas=[]\n",
    "c.execute(\"SELECT AttractionID, Name FROM attraction where LOWER(Category) LIKE '%ride%'\")\n",
    "first_list = c.fetchall()\n",
    "time_data = (\"\", 0)\n",
    "for (attid, name) in first_list:\n",
    "    c.execute(\"SELECT duration FROM checkin where attraction=\"+str(attid)+\"\")\n",
    "    second_list = c.fetchall()\n",
    "    tot_dur = 0\n",
    "    n = 1\n",
    "    for duration in second_list:\n",
    "        try:\n",
    "            dur = duration[0].split(':')\n",
    "            tot_dur +=((int(dur[0])*3600) +(int(dur[1])*60)+ int(dur[2]))\n",
    "            n += 1\n",
    "        except:\n",
    "            continue\n",
    "    avg_dur = tot_dur / n\n",
    "    datas.append((name,n,avg_dur)) \n",
    "\n",
    "def Sort_Tuple(tup,y):  \n",
    "  \n",
    "    tup.sort(key = lambda x: x[y])  \n",
    "    return tup  \n",
    "tup = datas\n",
    "tup_f_1=Sort_Tuple(tup,1)[-1]  \n",
    "x=tup_f_1\n",
    "#print(\"x is\", tup_f_1 )\n",
    "tup_f_2=Sort_Tuple(tup,2)[0]  \n",
    "y=tup_f_2\n",
    "#print(\"y is \",tup_f_2)\n",
    "updated_list=[]\n",
    "\n",
    "for item in datas:\n",
    "    if item[1]>y[1]:\n",
    "        y=item\n",
    "        updated_list.append(item)\n",
    "    elif item[2]<x[2]:\n",
    "        x=item\n",
    "        updated_list.append(item)\n",
    "#print(updated_list)\n",
    "solution=[]\n",
    "for item in updated_list:\n",
    "    solution.append(item[0])\n",
    "print(solution)\n"
   ]
  },
  {
   "cell_type": "code",
   "execution_count": null,
   "metadata": {},
   "outputs": [],
   "source": []
  }
 ],
 "metadata": {
  "kernelspec": {
   "display_name": "Python 3",
   "language": "python",
   "name": "python3"
  },
  "language_info": {
   "codemirror_mode": {
    "name": "ipython",
    "version": 3
   },
   "file_extension": ".py",
   "mimetype": "text/x-python",
   "name": "python",
   "nbconvert_exporter": "python",
   "pygments_lexer": "ipython3",
   "version": "3.8.5"
  }
 },
 "nbformat": 4,
 "nbformat_minor": 2
}
